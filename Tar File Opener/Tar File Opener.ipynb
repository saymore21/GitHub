{
 "cells": [
  {
   "cell_type": "code",
   "execution_count": null,
   "metadata": {},
   "outputs": [],
   "source": [
    "import os\n",
    "import tarfile\n",
    "import numpy as np\n",
    "import pandas as pd\n",
    "from six.moves import urllib\n",
    "\n",
    "HOUSING_PATH = \"datasets/\"\n",
    "\n",
    "def fetch_from_url(housing_path=HOUSING_PATH):\n",
    "    if not os.path.isdir(housing_path):\n",
    "        os.makedirs(housing_path)\n",
    "    tgz_path = os.path.join(housing_path, \"dataset.tgz\")\n",
    "    urllib.request.urlretrieve(housing_url, tgz_path)\n",
    "    housing_tgz = tarfile.open(tgz_path)\n",
    "    housing_tgz.extractall(path=housing_path)\n",
    "    housing_tgz.close()\n",
    "    return True\n",
    "\n",
    "def fetch_from_fileexp():\n",
    "    tgz_path = os.path.join(HOUSING_URL)\n",
    "    housing_tgz = tarfile.open(tgz_path)\n",
    "    housing_tgz.extractall(path=os.getcwd())\n",
    "    housing_tgz.close()\n",
    "    return True\n",
    "\n",
    "\n",
    "#Main function \n",
    "if __name__ == '__main__':\n",
    "    global HOUSING_URL\n",
    "    option = int(input(\"Where to download from: \\n 1.URL \\n 2.File Explorer\\n\"))\n",
    "    if(option == 1):\n",
    "        HOUSING_URL = input(\" Enter the URL to download the tgz file: \")\n",
    "        flag = fetch_housing_data()\n",
    "        if(flag):\n",
    "            print(\"File Downloaded\")\n",
    "    elif(option ==2):\n",
    "        HOUSING_URL = input(\" Enter the path of folder structure to tgz file: \")\n",
    "        flag = fetch_from_fileexp()\n",
    "        if(flag):\n",
    "            print(\"File Downloaded\")\n",
    "    else:\n",
    "        print(\"Please enter a valid input :)\")"
   ]
  }
 ],
 "metadata": {
  "kernelspec": {
   "display_name": "Python 3",
   "language": "python",
   "name": "python3"
  },
  "language_info": {
   "codemirror_mode": {
    "name": "ipython",
    "version": 3
   },
   "file_extension": ".py",
   "mimetype": "text/x-python",
   "name": "python",
   "nbconvert_exporter": "python",
   "pygments_lexer": "ipython3",
   "version": "3.7.2"
  }
 },
 "nbformat": 4,
 "nbformat_minor": 2
}
